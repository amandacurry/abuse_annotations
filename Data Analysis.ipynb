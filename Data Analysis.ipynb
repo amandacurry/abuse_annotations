{
 "cells": [
  {
   "cell_type": "code",
   "execution_count": 17,
   "metadata": {},
   "outputs": [
    {
     "name": "stdout",
     "output_type": "stream",
     "text": [
      "IS_ABUSE \n",
      "  1    16139\n",
      "-2     2133\n",
      "-1     1698\n",
      " 0     1424\n",
      "-3      654\n",
      "Name: is_abuse, dtype: int64\n",
      "IS_ABUSE % \n",
      "  1    0.731994\n",
      "-2    0.096743\n",
      "-1    0.077014\n",
      " 0    0.064586\n",
      "-3    0.029663\n",
      "Name: is_abuse, dtype: float64\n",
      "\n",
      "ABLEISM \n",
      " not_able    4435\n",
      "able          50\n",
      "Name: ableism, dtype: int64\n",
      "ABLEISM % \n",
      " not_able    0.988852\n",
      "able        0.011148\n",
      "Name: ableism, dtype: float64\n",
      "\n",
      "DIRECTION \n",
      " explicit    3714\n",
      "implicit     771\n",
      "Name: direction, dtype: int64\n",
      "DIRECTION % \n",
      " explicit    0.828094\n",
      "implicit    0.171906\n",
      "Name: direction, dtype: float64\n",
      "\n",
      "HOMOPH \n",
      " not_homoph    4330\n",
      "homophobic     155\n",
      "Name: homoph, dtype: int64\n",
      "HOMOPH % \n",
      " not_homoph    0.96544\n",
      "homophobic    0.03456\n",
      "Name: homoph, dtype: float64\n",
      "\n",
      "INTEL \n",
      " not_intellectual    3905\n",
      "intellectual         580\n",
      "Name: intel, dtype: int64\n",
      "INTEL % \n",
      " not_intellectual    0.87068\n",
      "intellectual        0.12932\n",
      "Name: intel, dtype: float64\n",
      "\n",
      "RACIST \n",
      " not_racist    4415\n",
      "racist          70\n",
      "Name: racist, dtype: int64\n",
      "RACIST % \n",
      " not_racist    0.984392\n",
      "racist        0.015608\n",
      "Name: racist, dtype: float64\n",
      "\n",
      "SEX_HARASSMENT \n",
      " not_harass    2759\n",
      "harass        1721\n",
      "Name: sex_harassment, dtype: int64\n",
      "SEX_HARASSMENT % \n",
      " not_harass    0.615848\n",
      "harass        0.384152\n",
      "Name: sex_harassment, dtype: float64\n",
      "\n",
      "SEXISM \n",
      " not_sexist    3651\n",
      "sexist         834\n",
      "Name: sexism, dtype: int64\n",
      "SEXISM % \n",
      " not_sexist    0.814047\n",
      "sexist        0.185953\n",
      "Name: sexism, dtype: float64\n",
      "\n",
      "TARGET \n",
      " system         4147\n",
      "individual      183\n",
      "generalised     155\n",
      "Name: target, dtype: int64\n",
      "TARGET % \n",
      " system         0.924638\n",
      "individual     0.040803\n",
      "generalised    0.034560\n",
      "Name: target, dtype: float64\n",
      "\n",
      "TRANS \n",
      " not_transphobic    4472\n",
      "transphobic          13\n",
      "Name: trans, dtype: int64\n",
      "TRANS % \n",
      " not_transphobic    0.997101\n",
      "transphobic        0.002899\n",
      "Name: trans, dtype: float64\n",
      "\n"
     ]
    }
   ],
   "source": [
    "import pandas as pd\n",
    "import matplotlib.pyplot as plt\n",
    "\n",
    "data = pd.read_csv('_all_annotations.csv')\n",
    "categories = ['is_abuse','ableism', 'direction', 'homoph', 'intel', 'racist','sex_harassment', 'sexism', 'target', 'trans']\n",
    "\n",
    "for category in categories:\n",
    "    print(category.upper(),'\\n', data[category].value_counts())\n",
    "    print(category.upper(),'% \\n', data[category].value_counts(normalize=True))\n",
    "    print()\n",
    "    "
   ]
  },
  {
   "cell_type": "code",
   "execution_count": 12,
   "metadata": {},
   "outputs": [
    {
     "data": {
      "text/plain": [
       "<matplotlib.axes._subplots.AxesSubplot at 0x7fbfbf8fae10>"
      ]
     },
     "execution_count": 12,
     "metadata": {},
     "output_type": "execute_result"
    },
    {
     "data": {
      "image/png": "[encoded data removed]",
      "text/plain": [
       "<Figure size 432x288 with 1 Axes>"
      ]
     },
     "metadata": {
      "needs_background": "light"
     },
     "output_type": "display_data"
    }
   ],
   "source": [
    "data['sexism'].value_counts().plot.bar()\n"
   ]
  },
  {
   "cell_type": "code",
   "execution_count": null,
   "metadata": {},
   "outputs": [],
   "source": []
  }
 ],
 "metadata": {
  "kernelspec": {
   "display_name": "Python 3",
   "language": "python",
   "name": "python3"
  },
  "language_info": {
   "codemirror_mode": {
    "name": "ipython",
    "version": 3
   },
   "file_extension": ".py",
   "mimetype": "text/x-python",
   "name": "python",
   "nbconvert_exporter": "python",
   "pygments_lexer": "ipython3",
   "version": "3.6.10"
  }
 },
 "nbformat": 4,
 "nbformat_minor": 4
}
